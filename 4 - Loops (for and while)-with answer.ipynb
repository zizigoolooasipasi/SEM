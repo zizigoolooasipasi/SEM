{
 "cells": [
  {
   "cell_type": "markdown",
   "metadata": {},
   "source": [
    "\n",
    "#### &nbsp;&nbsp;&nbsp;&nbsp;&nbsp;&nbsp;&nbsp;&nbsp;&nbsp;&nbsp;&nbsp;&nbsp;&nbsp;&nbsp;&nbsp;&nbsp;&nbsp;&nbsp;&nbsp;&nbsp;&nbsp;&nbsp;&nbsp;&nbsp;&nbsp;&nbsp;&nbsp;&nbsp;&nbsp;&nbsp;&nbsp;&nbsp;&nbsp;&nbsp;&nbsp;&nbsp;&nbsp;&nbsp;&nbsp;&nbsp;&nbsp;&nbsp;&nbsp;&nbsp;&nbsp;&nbsp;&nbsp;&nbsp;&nbsp;&nbsp;&nbsp;&nbsp;&nbsp;&nbsp;&nbsp;&nbsp;&nbsp;&nbsp;&nbsp;&nbsp;🐍Python Refresher for Sustainable Energy Management Module\n",
    "#### &nbsp;&nbsp;&nbsp;&nbsp;&nbsp;&nbsp;&nbsp;&nbsp;&nbsp;&nbsp;&nbsp;&nbsp;&nbsp;&nbsp;&nbsp;&nbsp;&nbsp;&nbsp;&nbsp;&nbsp;&nbsp;&nbsp;&nbsp;&nbsp;&nbsp;&nbsp;&nbsp;&nbsp;&nbsp;&nbsp;&nbsp;&nbsp;&nbsp;&nbsp;&nbsp;&nbsp;&nbsp;&nbsp;&nbsp;&nbsp;&nbsp;&nbsp;&nbsp;&nbsp;&nbsp;&nbsp;&nbsp;&nbsp;&nbsp;&nbsp;&nbsp;&nbsp;&nbsp;&nbsp;&nbsp;&nbsp;&nbsp;&nbsp;&nbsp;&nbsp;&nbsp;&nbsp;&nbsp;&nbsp;&nbsp;&nbsp;&nbsp;&nbsp;&nbsp;&nbsp;&nbsp;&nbsp;&nbsp;&nbsp;&nbsp;&nbsp;&nbsp;&nbsp;&nbsp;&nbsp;&nbsp;&nbsp;&nbsp;&nbsp;&nbsp;&nbsp;&nbsp;&nbsp;&nbsp;&nbsp;🎓Nottingham Trent University\n",
    "______________________________________________________________________________________________________"
   ]
  },
  {
   "cell_type": "markdown",
   "metadata": {},
   "source": [
    "### 4-Getting Started with Python\n",
    "### Python Basics - Loops (for and while)\n",
    "______________________________________________________________________________________________________"
   ]
  },
  {
   "cell_type": "markdown",
   "metadata": {},
   "source": [
    "## Outline\n",
    "- Control Flow\n",
    "  - Loops (for, while)\n",
    "  - Loop Control Statements(Break and Continue)\n",
    "- Time⌚to Code💻\n",
    "______________________________________________________________________________________________________"
   ]
  },
  {
   "cell_type": "markdown",
   "metadata": {},
   "source": [
    "### Control Flow:\n",
    "### For Loops\n",
    "- #### Usage:\n",
    "    - Iterate over a sequence and perform a specific action for each element.\n",
    "    - \n",
    "Useful when the number of iterations <span style=\"color:red\">is known in advance</span>.\n",
    "- #### Example:\r\n"
   ]
  },
  {
   "cell_type": "code",
   "execution_count": null,
   "metadata": {},
   "outputs": [],
   "source": [
    "# Example 1:\n",
    "for i in range(5):  # Iterates from 0 to 4\n",
    "    print(i)\n"
   ]
  },
  {
   "cell_type": "code",
   "execution_count": null,
   "metadata": {},
   "outputs": [],
   "source": [
    "# Example 2:\n",
    "fruits = [\"apple\", \"banana\", \"cherry\"]\n",
    "for fruit in fruits:\n",
    "    print(fruit)\n"
   ]
  },
  {
   "cell_type": "code",
   "execution_count": null,
   "metadata": {},
   "outputs": [],
   "source": [
    "# Example 3:\n",
    "# Calculate total power consumption in a circuit\n",
    "appliances = [\"Light Bulb\", \"Fan\", \"Refrigerator\", \"Computer\"]\n",
    "total_power = 0\n",
    "\n",
    "for appliance in appliances:\n",
    "    power_usage = float(input(f\"Enter power usage (in watts) for {appliance}: \"))\n",
    "    total_power += power_usage\n",
    "\n",
    "print(f\"Total power consumption: {total_power} watts\")\n"
   ]
  },
  {
   "cell_type": "markdown",
   "metadata": {},
   "source": [
    " ______________________________________________________________________________________________________\n",
    " ### While Loops\n",
    "- #### Usage:\n",
    "    - Repeatedly execute a block of code as long as a given condition is true.\r",
    "    - \n",
    "Useful when the number of iteration is <span style=\"color:red\">  not  known</span>  in advance.\n",
    "- #### Example:\r\n"
   ]
  },
  {
   "cell_type": "code",
   "execution_count": null,
   "metadata": {},
   "outputs": [],
   "source": [
    "# Example 4:\n",
    "count = 0\n",
    "while count < 5:\n",
    "    print(count)\n",
    "    count += 1\n"
   ]
  },
  {
   "cell_type": "markdown",
   "metadata": {},
   "source": [
    " ______________________________________________________________________________________________________\n",
    " ### Loop Control Statements\n",
    "Python provides break and continue statements to control the flow of loops."
   ]
  },
  {
   "cell_type": "markdown",
   "metadata": {},
   "source": [
    "### Break\n",
    "- #### Usage:\n",
    "    - Terminates the loop prematurely.\n",
    "- #### Example:\r\n"
   ]
  },
  {
   "cell_type": "code",
   "execution_count": null,
   "metadata": {},
   "outputs": [],
   "source": [
    "# Example 5:\n",
    "for i in range(10):\n",
    "    if i == 5:\n",
    "        break\n",
    "    print(i)\n"
   ]
  },
  {
   "cell_type": "code",
   "execution_count": null,
   "metadata": {},
   "outputs": [],
   "source": [
    "# Example 6:\n",
    "numbers = [1, 2, 3, 4, 5, 6, 7, 8, 9, 10]\n",
    "for num in numbers:\n",
    "    if num == 5:\n",
    "        break\n",
    "    print(num)"
   ]
  },
  {
   "cell_type": "markdown",
   "metadata": {},
   "source": [
    "### Continue\n",
    "- #### Usage:\n",
    "    -   Skips the rest of the code inside the loop for the current iteration and moves to the next iteration.\n",
    "- #### Example:\r\n"
   ]
  },
  {
   "cell_type": "code",
   "execution_count": null,
   "metadata": {},
   "outputs": [],
   "source": [
    "# Example 7:\n",
    "for i in range(10):\n",
    "    if i == 5:\n",
    "        continue\n",
    "    print(i)"
   ]
  },
  {
   "cell_type": "code",
   "execution_count": null,
   "metadata": {},
   "outputs": [],
   "source": [
    "# Example 8:\n",
    "numbers = [1, 2, 3, 4, 5, 6, 7, 8, 9, 10]\n",
    "for num in numbers:\n",
    "    if num % 2 == 0:\n",
    "        continue\n",
    "    print(num)\n"
   ]
  },
  {
   "cell_type": "markdown",
   "metadata": {},
   "source": [
    "______________________________________________________________________________________________________\n",
    "### Time⌚to Code💻\n",
    "1️⃣ Write a code"
   ]
  },
  {
   "cell_type": "code",
   "execution_count": null,
   "metadata": {},
   "outputs": [],
   "source": [
    "# Using a while loop to calculate the sum of user-entered numbers\n",
    "# If the user entered -1 shows the end of input and then show the sum to user"
   ]
  },
  {
   "cell_type": "code",
   "execution_count": null,
   "metadata": {},
   "outputs": [],
   "source": [
    "# Using a while loop to calculate the sum of user-entered numbers\n",
    "sum_result = 0\n",
    "sentinel = -1  # The user will enter -1 to indicate the end of input\n",
    "\n",
    "print(\"Enter numbers to calculate the sum. Enter -1 to finish.\")\n",
    "\n",
    "while True:\n",
    "    user_input = float(input(\"Enter a number: \"))\n",
    "    \n",
    "    if user_input == sentinel:\n",
    "        break  # Exit the loop if the sentinel value is entered\n",
    "    \n",
    "    sum_result += user_input\n",
    "\n",
    "print(f\"The sum of the entered numbers is: {sum_result}\")"
   ]
  },
  {
   "cell_type": "markdown",
   "metadata": {},
   "source": [
    "2️⃣ Write a code"
   ]
  },
  {
   "cell_type": "code",
   "execution_count": 1,
   "metadata": {},
   "outputs": [],
   "source": [
    "# Assume we have data representing the hourly availability of solar energy in kilowatt-hours\n",
    "solar_energy_data = [0,0,0,0,0,0,0,0,5.2, 6.5, 7.8, 8.2, 6.9, 5.5, 4.3, 3.8, 2.7, 1.5,0,0,0,0,0,0]\n",
    "# Write a program that get hourly demand in kilowatt-hours from user and calculated total energy consumption for the day \n",
    "# considering demand and salar energy availability during the day"
   ]
  },
  {
   "cell_type": "code",
   "execution_count": null,
   "metadata": {},
   "outputs": [],
   "source": [
    "total_energy_consumption = 0\n",
    "for hour in range(24):\n",
    "    energy_demand = float(input(f\"Enter energy demand for hour {hour + 1} (in kilowatt-hours): \"))\n",
    "    solar_energy_available = solar_energy_data[hour]\n",
    "\n",
    "    # Adjust energy consumption based on solar availability\n",
    "    adjusted_consumption = max(0, energy_demand - solar_energy_available)\n",
    "    total_energy_consumption += adjusted_consumption\n",
    "\n",
    "print(f\"Total energy consumption for the day: {total_energy_consumption} kilowatt-hours\")\n"
   ]
  },
  {
   "cell_type": "markdown",
   "metadata": {},
   "source": [
    "3️⃣ Write a code"
   ]
  },
  {
   "cell_type": "code",
   "execution_count": null,
   "metadata": {},
   "outputs": [],
   "source": [
    "# Consider a charger and battery\n",
    "# Get the charger efficiency from user\n",
    "# Get the charger capacity from user\n",
    "# Get battery current energy from user\n",
    "# Get input energy from user via printing Enter input energy (in kilowatt-hours): until you reach to charging capacity\n",
    "# print Target energy reached. System operating efficiently. if target capacity is reached"
   ]
  },
  {
   "cell_type": "code",
   "execution_count": null,
   "metadata": {},
   "outputs": [
    {
     "name": "stdin",
     "output_type": "stream",
     "text": [
      "Enter Charging Capacity (in kilowatt-hours):  1000\n",
      "Enter Battery Current Energy (in kilowatt-hours):  0\n",
      "Enter Charger Efficiency:  0.9\n",
      "Enter input energy to battery (in kilowatt-hours):  100\n"
     ]
    }
   ],
   "source": [
    "# Simulate energy consumption until a target is reached\n",
    "charging_capacity = float(input(\"Enter Charging Capacity (in kilowatt-hours): \"))\n",
    "# in kilowatt-hours\n",
    "current_energy = float(input(\"Enter Battery Current Energy (in kilowatt-hours): \"))\n",
    "efficiency = float(input(\"Enter Charger Efficiency: \"))\n",
    "\n",
    "while current_energy < charging_capacity:\n",
    "    input_energy = float(input(\"Enter input energy to battery (in kilowatt-hours): \"))\n",
    "    converted_energy = input_energy * efficiency\n",
    "    current_energy += converted_energy\n",
    "\n",
    "    if current_energy >= charging_capacity:\n",
    "        print(\"Charging Capacity reached. System operating efficiently.\")\n",
    "        break\n",
    "\n",
    "print(f\"Total energy consumption: {current_energy} kilowatt-hours\")"
   ]
  },
  {
   "cell_type": "code",
   "execution_count": null,
   "metadata": {},
   "outputs": [],
   "source": []
  }
 ],
 "metadata": {
  "kernelspec": {
   "display_name": "Python 3 (ipykernel)",
   "language": "python",
   "name": "python3"
  },
  "language_info": {
   "codemirror_mode": {
    "name": "ipython",
    "version": 3
   },
   "file_extension": ".py",
   "mimetype": "text/x-python",
   "name": "python",
   "nbconvert_exporter": "python",
   "pygments_lexer": "ipython3",
   "version": "3.12.1"
  }
 },
 "nbformat": 4,
 "nbformat_minor": 4
}
