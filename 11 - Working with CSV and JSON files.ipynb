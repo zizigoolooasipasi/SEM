{
 "cells": [
  {
   "cell_type": "markdown",
   "metadata": {},
   "source": [
    "\n",
    "#### &nbsp;&nbsp;&nbsp;&nbsp;&nbsp;&nbsp;&nbsp;&nbsp;&nbsp;&nbsp;&nbsp;&nbsp;&nbsp;&nbsp;&nbsp;&nbsp;&nbsp;&nbsp;&nbsp;&nbsp;&nbsp;&nbsp;&nbsp;&nbsp;&nbsp;&nbsp;&nbsp;&nbsp;&nbsp;&nbsp;&nbsp;&nbsp;&nbsp;&nbsp;&nbsp;&nbsp;&nbsp;&nbsp;&nbsp;&nbsp;&nbsp;&nbsp;&nbsp;&nbsp;&nbsp;&nbsp;&nbsp;&nbsp;&nbsp;&nbsp;&nbsp;&nbsp;&nbsp;&nbsp;&nbsp;&nbsp;&nbsp;&nbsp;&nbsp;&nbsp;🐍Python Refresher for Sustainable Energy Management Module\n",
    "#### &nbsp;&nbsp;&nbsp;&nbsp;&nbsp;&nbsp;&nbsp;&nbsp;&nbsp;&nbsp;&nbsp;&nbsp;&nbsp;&nbsp;&nbsp;&nbsp;&nbsp;&nbsp;&nbsp;&nbsp;&nbsp;&nbsp;&nbsp;&nbsp;&nbsp;&nbsp;&nbsp;&nbsp;&nbsp;&nbsp;&nbsp;&nbsp;&nbsp;&nbsp;&nbsp;&nbsp;&nbsp;&nbsp;&nbsp;&nbsp;&nbsp;&nbsp;&nbsp;&nbsp;&nbsp;&nbsp;&nbsp;&nbsp;&nbsp;&nbsp;&nbsp;&nbsp;&nbsp;&nbsp;&nbsp;&nbsp;&nbsp;&nbsp;&nbsp;&nbsp;&nbsp;&nbsp;&nbsp;&nbsp;&nbsp;&nbsp;&nbsp;&nbsp;&nbsp;&nbsp;&nbsp;&nbsp;&nbsp;&nbsp;&nbsp;&nbsp;&nbsp;&nbsp;&nbsp;&nbsp;&nbsp;&nbsp;&nbsp;&nbsp;&nbsp;&nbsp;&nbsp;&nbsp;&nbsp;&nbsp;🎓Nottingham Trent University\n",
    "______________________________________________________________________________________________________"
   ]
  },
  {
   "cell_type": "markdown",
   "metadata": {},
   "source": [
    "###### Lecture 14 - Section 2: Getting Started with Python\n",
    "### Python Basics - Working with CSV and JSON files\n",
    "______________________________________________________________________________________________________"
   ]
  },
  {
   "cell_type": "markdown",
   "metadata": {},
   "source": [
    "## Outline\n",
    "- Working with CSV Files\n",
    "  - Reading CSV Files\n",
    "  - Writing to CSV Files\n",
    "- Working with JSON Files\n",
    "  - Reading JSON Files\n",
    "  - Writing to JSON Files\n",
    "- Combining CSV and JSON\n",
    "______________________________________________________________________________________________________"
   ]
  },
  {
   "cell_type": "markdown",
   "metadata": {},
   "source": [
    "## Working with CSV Files\n",
    "### Reading CSV Files:"
   ]
  },
  {
   "cell_type": "code",
   "execution_count": 59,
   "metadata": {},
   "outputs": [
    {
     "name": "stdout",
     "output_type": "stream",
     "text": [
      "['Name', 'Age', 'City']\n",
      "['Alice', '25', 'New York']\n",
      "['Bob', '30', 'San Francisco']\n",
      "['Charlie', '22', 'Chicago']\n"
     ]
    }
   ],
   "source": [
    "import csv\n",
    "\n",
    "# Open the CSV file for reading\n",
    "with open('example.csv', 'r') as file:\n",
    "    # Create a CSV reader object\n",
    "    csv_reader = csv.reader(file)\n",
    "\n",
    "    # Read and print each row\n",
    "    for row in csv_reader:\n",
    "        print(row)"
   ]
  },
  {
   "cell_type": "markdown",
   "metadata": {},
   "source": [
    "### Writing to CSV Files:"
   ]
  },
  {
   "cell_type": "code",
   "execution_count": 60,
   "metadata": {},
   "outputs": [],
   "source": [
    "import csv\n",
    "\n",
    "# Data to be written to the CSV file\n",
    "data = [\n",
    "    ['Name', 'Age', 'City'],\n",
    "    ['Alice', 25, 'New York'],\n",
    "    ['Bob', 30, 'San Francisco'],\n",
    "    ['Charlie', 22, 'Chicago']\n",
    "]\n",
    "\n",
    "# Open the CSV file for writing\n",
    "with open('example.csv', 'w', newline='') as file:\n",
    "    # Create a CSV writer object\n",
    "    csv_writer = csv.writer(file)\n",
    "\n",
    "    # Write data to the CSV file\n",
    "    csv_writer.writerows(data)"
   ]
  },
  {
   "cell_type": "markdown",
   "metadata": {},
   "source": [
    "______________________________________________________________________________________________________\n",
    "## Working with JSON Files\n",
    "### Reading JSON Files:"
   ]
  },
  {
   "cell_type": "code",
   "execution_count": 61,
   "metadata": {},
   "outputs": [
    {
     "name": "stdout",
     "output_type": "stream",
     "text": [
      "{'Name': 'Alice', 'Age': 25, 'City': 'New York'}\n"
     ]
    }
   ],
   "source": [
    "import json\n",
    "\n",
    "# Open the JSON file for reading\n",
    "with open('example.json', 'r') as file:\n",
    "    # Load JSON data\n",
    "    data = json.load(file)\n",
    "\n",
    "    # Print the loaded data\n",
    "    print(data)"
   ]
  },
  {
   "cell_type": "markdown",
   "metadata": {},
   "source": [
    "### Writing to JSON Files:"
   ]
  },
  {
   "cell_type": "code",
   "execution_count": 62,
   "metadata": {},
   "outputs": [],
   "source": [
    "import json\n",
    "\n",
    "# Data to be written to the JSON file\n",
    "data = {\n",
    "    'Name': 'Alice',\n",
    "    'Age': 25,\n",
    "    'City': 'New York'\n",
    "}\n",
    "\n",
    "# Open the JSON file for writing\n",
    "with open('example.json', 'w') as file:\n",
    "    # Write data to the JSON file\n",
    "    json.dump(data, file, indent=2)\n"
   ]
  },
  {
   "cell_type": "markdown",
   "metadata": {},
   "source": [
    "## Combining CSV and JSON\n",
    "You might also want to convert data between CSV and JSON formats:"
   ]
  },
  {
   "cell_type": "code",
   "execution_count": 63,
   "metadata": {},
   "outputs": [],
   "source": [
    "import csv\n",
    "import json\n",
    "\n",
    "# Read data from CSV file\n",
    "with open('example.csv', 'r') as file:\n",
    "    csv_reader = csv.DictReader(file)\n",
    "    data = [row for row in csv_reader]\n",
    "\n",
    "# Write data to JSON file\n",
    "with open('example.json', 'w') as file:\n",
    "    json.dump(data, file, indent=2)"
   ]
  },
  {
   "cell_type": "code",
   "execution_count": 64,
   "metadata": {},
   "outputs": [],
   "source": [
    "import csv\n",
    "import json\n",
    "\n",
    "# Read data from JSON file\n",
    "with open('example.json', 'r') as file:\n",
    "    data = json.load(file)\n",
    "\n",
    "# Write data to CSV file\n",
    "with open('example.csv', 'w', newline='') as file:\n",
    "    csv_writer = csv.DictWriter(file, fieldnames=data[0].keys())\n",
    "    csv_writer.writeheader()\n",
    "    csv_writer.writerows(data)"
   ]
  },
  {
   "cell_type": "markdown",
   "metadata": {},
   "source": [
    "- ### Example:\n"
   ]
  },
  {
   "cell_type": "markdown",
   "metadata": {},
   "source": [
    "#### Example 1: Working with CSV Energy Dataset"
   ]
  },
  {
   "cell_type": "markdown",
   "metadata": {},
   "source": [
    "Suppose you have a CSV file named energy_data.csv with the following structure:"
   ]
  },
  {
   "attachments": {
    "67dcd8ef-9f97-44d2-bad6-b7fff2ae6fa5.png": {
     "image/png": "[encoded data removed]"
    }
   },
   "cell_type": "markdown",
   "metadata": {},
   "source": [
    "![image.png](attachment:67dcd8ef-9f97-44d2-bad6-b7fff2ae6fa5.png)"
   ]
  },
  {
   "cell_type": "code",
   "execution_count": 65,
   "metadata": {},
   "outputs": [
    {
     "name": "stdout",
     "output_type": "stream",
     "text": [
      "Timestamp: 01/01/2024 00:00, Energy Usage: 150.0 kWh\n",
      "Timestamp: 01/01/2024 01:00, Energy Usage: 180.0 kWh\n",
      "Timestamp: 01/01/2024 02:00, Energy Usage: 200.0 kWh\n"
     ]
    }
   ],
   "source": [
    "import csv\n",
    "\n",
    "# Open the CSV file for reading\n",
    "with open('energy_data.csv', 'r') as file:\n",
    "    # Create a CSV reader object\n",
    "    csv_reader = csv.DictReader(file)\n",
    "\n",
    "    # Extract and print data\n",
    "    for row in csv_reader:\n",
    "        timestamp = row['Timestamp']\n",
    "        energy_usage = float(row['EnergyUsage'])\n",
    "        print(f'Timestamp: {timestamp}, Energy Usage: {energy_usage} kWh')"
   ]
  },
  {
   "cell_type": "markdown",
   "metadata": {},
   "source": [
    "#### Example 2: Working with JSON Energy Dataset\n",
    "Suppose you have a JSON file named energy_data.json with the following structure:"
   ]
  },
  {
   "attachments": {
    "883fd136-90bc-4ce2-8f45-29df962ebe0e.png": {
     "image/png": "[encoded data removed]"
    }
   },
   "cell_type": "markdown",
   "metadata": {},
   "source": [
    "![image.png](attachment:883fd136-90bc-4ce2-8f45-29df962ebe0e.png)"
   ]
  },
  {
   "cell_type": "code",
   "execution_count": 71,
   "metadata": {},
   "outputs": [
    {
     "name": "stdout",
     "output_type": "stream",
     "text": [
      "Invalid entry: Name\n",
      "Invalid entry: Age\n",
      "Invalid entry: City\n"
     ]
    }
   ],
   "source": [
    "import json\n",
    "\n",
    "# Open the JSON file for reading\n",
    "with open('energy_data.json', 'r') as file:\n",
    "    # Load JSON data\n",
    "    json_data = json.load(file)\n",
    "\n",
    "    # Check if 'data' key exists\n",
    "    if 'data' in json_data:\n",
    "        data = json_data['data']\n",
    "    else:\n",
    "        # Assume direct list of dictionaries or list of strings\n",
    "        data = json_data\n",
    "\n",
    "    # Extract and print data\n",
    "    for entry in data:\n",
    "        # Handle both dictionary and string scenarios\n",
    "        if isinstance(entry, dict):\n",
    "            timestamp = entry.get('timestamp', 'N/A')\n",
    "            energy_usage = entry.get('energy_usage', 'N/A')\n",
    "            print(f'Timestamp: {timestamp}, Energy Usage: {energy_usage} kWh')\n",
    "        else:\n",
    "            print(f'Invalid entry: {entry}')\n"
   ]
  },
  {
   "cell_type": "code",
   "execution_count": null,
   "metadata": {},
   "outputs": [],
   "source": []
  }
 ],
 "metadata": {
  "kernelspec": {
   "display_name": "Python 3 (ipykernel)",
   "language": "python",
   "name": "python3"
  },
  "language_info": {
   "codemirror_mode": {
    "name": "ipython",
    "version": 3
   },
   "file_extension": ".py",
   "mimetype": "text/x-python",
   "name": "python",
   "nbconvert_exporter": "python",
   "pygments_lexer": "ipython3",
   "version": "3.12.1"
  }
 },
 "nbformat": 4,
 "nbformat_minor": 4
}
