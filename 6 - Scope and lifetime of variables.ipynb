{
 "cells": [
  {
   "cell_type": "markdown",
   "metadata": {
    "jp-MarkdownHeadingCollapsed": true
   },
   "source": [
    "\n",
    "#### &nbsp;&nbsp;&nbsp;&nbsp;&nbsp;&nbsp;&nbsp;&nbsp;&nbsp;&nbsp;&nbsp;&nbsp;&nbsp;&nbsp;&nbsp;&nbsp;&nbsp;&nbsp;&nbsp;&nbsp;&nbsp;&nbsp;&nbsp;&nbsp;&nbsp;&nbsp;&nbsp;&nbsp;&nbsp;&nbsp;&nbsp;&nbsp;&nbsp;&nbsp;&nbsp;&nbsp;&nbsp;&nbsp;&nbsp;&nbsp;&nbsp;&nbsp;&nbsp;&nbsp;&nbsp;&nbsp;&nbsp;&nbsp;&nbsp;&nbsp;&nbsp;&nbsp;&nbsp;&nbsp;&nbsp;&nbsp;&nbsp;&nbsp;&nbsp;&nbsp;🐍Python Refresher for Sustainable Energy Management Module\n",
    "#### &nbsp;&nbsp;&nbsp;&nbsp;&nbsp;&nbsp;&nbsp;&nbsp;&nbsp;&nbsp;&nbsp;&nbsp;&nbsp;&nbsp;&nbsp;&nbsp;&nbsp;&nbsp;&nbsp;&nbsp;&nbsp;&nbsp;&nbsp;&nbsp;&nbsp;&nbsp;&nbsp;&nbsp;&nbsp;&nbsp;&nbsp;&nbsp;&nbsp;&nbsp;&nbsp;&nbsp;&nbsp;&nbsp;&nbsp;&nbsp;&nbsp;&nbsp;&nbsp;&nbsp;&nbsp;&nbsp;&nbsp;&nbsp;&nbsp;&nbsp;&nbsp;&nbsp;&nbsp;&nbsp;&nbsp;&nbsp;&nbsp;&nbsp;&nbsp;&nbsp;&nbsp;&nbsp;&nbsp;&nbsp;&nbsp;&nbsp;&nbsp;&nbsp;&nbsp;&nbsp;&nbsp;&nbsp;&nbsp;&nbsp;&nbsp;&nbsp;&nbsp;&nbsp;&nbsp;&nbsp;&nbsp;&nbsp;&nbsp;&nbsp;&nbsp;&nbsp;&nbsp;&nbsp;&nbsp;&nbsp;🎓Nottingham Trent University\n",
    "______________________________________________________________________________________________________"
   ]
  },
  {
   "cell_type": "markdown",
   "metadata": {},
   "source": [
    "### 6-Getting Started with Python\n",
    "### Python Basics - Scope and lifetime of variables\n",
    "______________________________________________________________________________________________________"
   ]
  },
  {
   "cell_type": "markdown",
   "metadata": {},
   "source": [
    "## Outline\n",
    "- Scope of Variables\n",
    "  - Local Scope\n",
    "  - Enclosing (or Nonlocal) Scope\n",
    "  - Global Scope\n",
    "- Lifetime of Variables\n",
    "  - Local Variables\n",
    "  - Global Variables\n",
    "- Example\n",
    "______________________________________________________________________________________________________"
   ]
  },
  {
   "cell_type": "markdown",
   "metadata": {},
   "source": [
    "### Scope of Variables:\n",
    "**Scope** defines the region of the code where a variable is accessible. In Python, there are mainly three types of variable scopes:"
   ]
  },
  {
   "cell_type": "markdown",
   "metadata": {},
   "source": [
    "#### 1. Local Scope:\n",
    "- Variables declared inside a function have a local scope.\n",
    "- They are only accessible within that function."
   ]
  },
  {
   "cell_type": "code",
   "execution_count": null,
   "metadata": {},
   "outputs": [],
   "source": [
    "def example_function():\n",
    "    local_variable = \"I am local\"\n",
    "    print(local_variable)\n",
    "\n",
    "# Accessing the local variable outside the function will result in an error\n",
    "# print(local_variable)  # Uncommenting this line will raise an error\n"
   ]
  },
  {
   "cell_type": "markdown",
   "metadata": {},
   "source": [
    "Uncomment the last line and re-run the cell to see the result"
   ]
  },
  {
   "cell_type": "markdown",
   "metadata": {},
   "source": [
    "#### 2. Enclosing (or Nonlocal) Scope:"
   ]
  },
  {
   "cell_type": "markdown",
   "metadata": {},
   "source": [
    "- Variables declared in an enclosing function (when functions are nested) have an enclosing scope.\n",
    "- They are accessible in the nested function."
   ]
  },
  {
   "cell_type": "code",
   "execution_count": null,
   "metadata": {},
   "outputs": [],
   "source": [
    "def outer_function():\n",
    "    outer_variable = \"I am outer\"\n",
    "\n",
    "    def inner_function():\n",
    "        print(outer_variable)  # Accessing the outer variable from the enclosing scope\n",
    "\n",
    "    inner_function()\n",
    "\n",
    "# Calling the outer function\n",
    "outer_function()\n"
   ]
  },
  {
   "cell_type": "markdown",
   "metadata": {},
   "source": [
    "#### 3. Global Scope:"
   ]
  },
  {
   "cell_type": "markdown",
   "metadata": {},
   "source": [
    "- Variables declared outside any function or block have a global scope.\n",
    "- They are accessible from anywhere in the code"
   ]
  },
  {
   "cell_type": "code",
   "execution_count": null,
   "metadata": {},
   "outputs": [],
   "source": [
    "global_variable = \"I am global\"\n",
    "\n",
    "def print_global():\n",
    "    print(global_variable)\n",
    "\n",
    "# Calling the function\n",
    "print_global()\n"
   ]
  },
  {
   "cell_type": "markdown",
   "metadata": {},
   "source": [
    "______________________________________________________________________________________________________\n",
    "### Lifetime of Variables:\n",
    "**Lifetime** refers to the duration for which a variable exists in memory. In Python, the lifetime of variables can be broadly classified into two types:"
   ]
  },
  {
   "cell_type": "markdown",
   "metadata": {},
   "source": [
    "#### 1. Local  Variables:\n",
    "- The lifetime of local variables is limited to the duration of the function execution.\r",
    "- \n",
    "They are created when the function is called and destroyed when the function exits."
   ]
  },
  {
   "cell_type": "code",
   "execution_count": null,
   "metadata": {},
   "outputs": [],
   "source": [
    "def example_function():\n",
    "    local_variable = \"I exist only during the function execution\"\n",
    "    print(local_variable)\n",
    "\n",
    "# After the function call, the local_variable ceases to exist\n",
    "example_function()\n",
    "# Accessing the local_variable here will result in an error\n",
    "# print(local_variable)  # Uncommenting this line will raise an error\n"
   ]
  },
  {
   "cell_type": "markdown",
   "metadata": {},
   "source": [
    "#### 2. Global Variables:"
   ]
  },
  {
   "cell_type": "markdown",
   "metadata": {},
   "source": [
    "- The lifetime of global variables extends throughout the entire program execution.\n",
    "- They are created when the program starts and exist until the program terminates."
   ]
  },
  {
   "cell_type": "code",
   "execution_count": null,
   "metadata": {},
   "outputs": [],
   "source": [
    "global_variable = \"I persist throughout the program\"\n",
    "\n",
    "def print_global():\n",
    "    print(global_variable)\n",
    "\n",
    "# The global_variable exists throughout the program\n",
    "print_global()\n",
    "# Accessing the global_variable outside the function is valid\n",
    "print(global_variable)"
   ]
  },
  {
   "cell_type": "markdown",
   "metadata": {},
   "source": [
    "### Example 1: Wind Turbine Efficiency Calculation\n",
    "In this example, we'll calculate the overall efficiency of a wind turbine system, considering factors like wind speed, generator efficiency, and losses."
   ]
  },
  {
   "cell_type": "code",
   "execution_count": null,
   "metadata": {},
   "outputs": [],
   "source": [
    "# Example 1: Wind Turbine Efficiency Calculation\n",
    "\n",
    "wind_speed = 10  # Wind speed in meters per second\n",
    "generator_efficiency = 0.85  # Efficiency of the generator (a decimal value between 0 and 1)\n",
    "transmission_loss = 0.05  # Transmission losses (a decimal value between 0 and 1)\n",
    "\n",
    "def calculate_turbine_efficiency(wind_speed, generator_efficiency, transmission_loss):\n",
    "    # Local variable for calculating mechanical efficiency\n",
    "    mechanical_efficiency = 0.92  # Efficiency of the mechanical components (a decimal value between 0 and 1)\n",
    "\n",
    "    # Calculate overall efficiency\n",
    "    overall_efficiency = generator_efficiency * mechanical_efficiency * (1 - transmission_loss)\n",
    "\n",
    "    return overall_efficiency\n",
    "\n",
    "# Calculate and print the overall efficiency\n",
    "efficiency_result = calculate_turbine_efficiency(wind_speed, generator_efficiency, transmission_loss)\n",
    "print(\"Overall Efficiency of the Wind Turbine System:\", efficiency_result)\n"
   ]
  },
  {
   "cell_type": "markdown",
   "metadata": {
    "jp-MarkdownHeadingCollapsed": true
   },
   "source": [
    "In this example, **wind_speed**, **generator_efficiency**, and **transmission_loss** are global variables, while **mechanical_efficiency** is a local variable within the function. Understanding the scope and lifetime of these variables is crucial for efficient computation."
   ]
  },
  {
   "cell_type": "markdown",
   "metadata": {},
   "source": [
    "### Example 2: Project Cost Estimation for Wind Farm\n",
    "In this example, we'll estimate the total cost of a wind farm project, considering factors like the number of wind turbines, installation costs, and maintenance expenses."
   ]
  },
  {
   "cell_type": "code",
   "execution_count": null,
   "metadata": {},
   "outputs": [],
   "source": [
    "# Example 2: Project Cost Estimation for Wind Farm\n",
    "\n",
    "number_of_turbines = 20  # Number of wind turbines in the wind farm\n",
    "turbine_cost_per_unit = 500000  # Cost of a single wind turbine in GBP\n",
    "installation_cost_per_turbine = 100000  # Installation cost per wind turbine in GBP\n",
    "maintenance_cost_annual = 20000  # Annual maintenance cost per wind turbine in GBP\n",
    "\n",
    "def estimate_project_cost(num_turbines, turbine_cost, installation_cost, maintenance_cost):\n",
    "    # Local variable for calculating total installation cost\n",
    "    total_installation_cost = num_turbines * installation_cost\n",
    "\n",
    "    # Calculate total project cost including maintenance for a certain number of years\n",
    "    total_project_cost = num_turbines * turbine_cost + total_installation_cost\n",
    "    total_project_cost_with_maintenance = total_project_cost + maintenance_cost * 10  # Assuming a 10-year project span\n",
    "\n",
    "    return total_project_cost_with_maintenance\n",
    "\n",
    "# Calculate and print the total project cost\n",
    "project_cost_result = estimate_project_cost(number_of_turbines, turbine_cost_per_unit, installation_cost_per_turbine, maintenance_cost_annual)\n",
    "print(\"Total Project Cost for the Wind Farm:\", project_cost_result, \"GBP\")\n"
   ]
  },
  {
   "cell_type": "markdown",
   "metadata": {},
   "source": [
    "In this example, **number_of_turbines**, **turbine_cost_per_unit**, **installation_cost_per_turbine**, and **maintenance_cost_annual** are global variables, while **total_installation_cost** is a local variable within the function. Understanding the scope and lifetime of these variables is crucial for accurate cost estimation and financial planning in sustainable energy projects."
   ]
  }
 ],
 "metadata": {
  "kernelspec": {
   "display_name": "Python 3 (ipykernel)",
   "language": "python",
   "name": "python3"
  },
  "language_info": {
   "codemirror_mode": {
    "name": "ipython",
    "version": 3
   },
   "file_extension": ".py",
   "mimetype": "text/x-python",
   "name": "python",
   "nbconvert_exporter": "python",
   "pygments_lexer": "ipython3",
   "version": "3.12.1"
  }
 },
 "nbformat": 4,
 "nbformat_minor": 4
}
