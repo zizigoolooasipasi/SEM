{
 "cells": [
  {
   "cell_type": "markdown",
   "metadata": {
    "jp-MarkdownHeadingCollapsed": true
   },
   "source": [
    "\n",
    "#### &nbsp;&nbsp;&nbsp;&nbsp;&nbsp;&nbsp;&nbsp;&nbsp;&nbsp;&nbsp;&nbsp;&nbsp;&nbsp;&nbsp;&nbsp;&nbsp;&nbsp;&nbsp;&nbsp;&nbsp;&nbsp;&nbsp;&nbsp;&nbsp;&nbsp;&nbsp;&nbsp;&nbsp;&nbsp;&nbsp;&nbsp;&nbsp;&nbsp;&nbsp;&nbsp;&nbsp;&nbsp;&nbsp;&nbsp;&nbsp;&nbsp;&nbsp;&nbsp;&nbsp;&nbsp;&nbsp;&nbsp;&nbsp;&nbsp;&nbsp;&nbsp;&nbsp;&nbsp;&nbsp;&nbsp;&nbsp;&nbsp;&nbsp;&nbsp;&nbsp;🐍Python Refresher for Sustainable Energy Management Module\n",
    "#### &nbsp;&nbsp;&nbsp;&nbsp;&nbsp;&nbsp;&nbsp;&nbsp;&nbsp;&nbsp;&nbsp;&nbsp;&nbsp;&nbsp;&nbsp;&nbsp;&nbsp;&nbsp;&nbsp;&nbsp;&nbsp;&nbsp;&nbsp;&nbsp;&nbsp;&nbsp;&nbsp;&nbsp;&nbsp;&nbsp;&nbsp;&nbsp;&nbsp;&nbsp;&nbsp;&nbsp;&nbsp;&nbsp;&nbsp;&nbsp;&nbsp;&nbsp;&nbsp;&nbsp;&nbsp;&nbsp;&nbsp;&nbsp;&nbsp;&nbsp;&nbsp;&nbsp;&nbsp;&nbsp;&nbsp;&nbsp;&nbsp;&nbsp;&nbsp;&nbsp;&nbsp;&nbsp;&nbsp;&nbsp;&nbsp;&nbsp;&nbsp;&nbsp;&nbsp;&nbsp;&nbsp;&nbsp;&nbsp;&nbsp;&nbsp;&nbsp;&nbsp;&nbsp;&nbsp;&nbsp;&nbsp;&nbsp;&nbsp;&nbsp;&nbsp;&nbsp;&nbsp;&nbsp;&nbsp;&nbsp;🎓Nottingham Trent University\n",
    "______________________________________________________________________________________________________"
   ]
  },
  {
   "cell_type": "markdown",
   "metadata": {
    "jp-MarkdownHeadingCollapsed": true
   },
   "source": [
    "### 8-Getting Started with Python\n",
    "### Python Basics - Working with Lists, tuples, Dictionary, and sets\n",
    "______________________________________________________________________________________________________"
   ]
  },
  {
   "cell_type": "markdown",
   "metadata": {
    "jp-MarkdownHeadingCollapsed": true
   },
   "source": [
    "## Outline\n",
    "- Working with List\n",
    "- Working with Tuple\n",
    "- Working with Dictionary\n",
    "- Working with Range\n",
    "- Working with Set\n",
    " __________________________________________________________________________________________________"
   ]
  },
  {
   "cell_type": "markdown",
   "metadata": {},
   "source": [
    "## Working with List\n",
    "1. Creating a List\n",
    "2. Accessing Elements in a List\n",
    "3. Slicing a List\n",
    "4. Modifying Elements of List\n",
    "5. Adding Elements to a List\n",
    "6. Removing Elements from a List\n",
    "7. Iterating Through a List\n",
    "8. List Comprehension\n",
    "9. Finding the Length of a List"
   ]
  },
  {
   "cell_type": "markdown",
   "metadata": {},
   "source": [
    "### 1. Creating a List"
   ]
  },
  {
   "cell_type": "code",
   "execution_count": null,
   "metadata": {},
   "outputs": [],
   "source": [
    "# Example 1: Creating a list\n",
    "fruits = ['apple', 'banana', 'orange', 'grape']\n",
    "print(fruits)\n",
    "# Output: ['apple', 'banana', 'orange', 'grape']\n"
   ]
  },
  {
   "cell_type": "markdown",
   "metadata": {},
   "source": [
    "### 2. Accessing Elements in a List"
   ]
  },
  {
   "cell_type": "code",
   "execution_count": null,
   "metadata": {},
   "outputs": [],
   "source": [
    "# Example 2: Accessing elements in a list\n",
    "first_fruit = fruits[0]\n",
    "last_fruit = fruits[-1]\n",
    "print(\"First Fruit:\", first_fruit)\n",
    "print(\"Last Fruit:\", last_fruit)\n",
    "# Output: First Fruit: apple\n",
    "#         Last Fruit: grape"
   ]
  },
  {
   "cell_type": "markdown",
   "metadata": {},
   "source": [
    "### 3. Slicing a List"
   ]
  },
  {
   "cell_type": "code",
   "execution_count": null,
   "metadata": {},
   "outputs": [],
   "source": [
    "# Example 3: Slicing a list\n",
    "selected_fruits = fruits[1:3]\n",
    "print(\"Selected Fruits:\", selected_fruits)\n",
    "# Output: Selected Fruits: ['banana', 'orange']"
   ]
  },
  {
   "cell_type": "markdown",
   "metadata": {},
   "source": [
    "### 4. Modifying Elements of List"
   ]
  },
  {
   "cell_type": "code",
   "execution_count": null,
   "metadata": {},
   "outputs": [],
   "source": [
    "# Example 4: Modifying elements in a list\n",
    "fruits[2] = 'kiwi'\n",
    "print(\"Modified Fruits:\", fruits)\n",
    "# Output: Modified Fruits: ['apple', 'banana', 'kiwi', 'grape']"
   ]
  },
  {
   "cell_type": "markdown",
   "metadata": {},
   "source": [
    "### 5. Adding Elements to a List"
   ]
  },
  {
   "cell_type": "code",
   "execution_count": null,
   "metadata": {},
   "outputs": [],
   "source": [
    "# Example 5: Adding elements to a list\n",
    "fruits.append('pineapple')\n",
    "print(\"Updated Fruits:\", fruits)\n",
    "# Output: Updated Fruits: ['apple', 'banana', 'kiwi', 'grape', 'pineapple']"
   ]
  },
  {
   "cell_type": "markdown",
   "metadata": {},
   "source": [
    "### 6. Removing Elements of List"
   ]
  },
  {
   "cell_type": "code",
   "execution_count": null,
   "metadata": {},
   "outputs": [],
   "source": [
    "# Example 6: Removing elements from a list\n",
    "removed_fruit = fruits.pop(1)\n",
    "print(\"Removed Fruit:\", removed_fruit)\n",
    "print(\"Remaining Fruits:\", fruits)\n",
    "# Output: Removed Fruit: banana\n",
    "#         Remaining Fruits: ['apple', 'kiwi', 'grape', 'pineapple']"
   ]
  },
  {
   "cell_type": "markdown",
   "metadata": {},
   "source": [
    "### 7. Iterating Through a List"
   ]
  },
  {
   "cell_type": "code",
   "execution_count": null,
   "metadata": {},
   "outputs": [],
   "source": [
    "# Example 7: Iterating through a list\n",
    "print(\"Fruits:\")\n",
    "for fruit in fruits:\n",
    "    print(fruit)\n",
    "# Output: Fruits:\n",
    "#         apple\n",
    "#         kiwi\n",
    "#         grape\n",
    "#         pineapple"
   ]
  },
  {
   "cell_type": "markdown",
   "metadata": {},
   "source": [
    "### 8. List Comprehension"
   ]
  },
  {
   "cell_type": "code",
   "execution_count": null,
   "metadata": {},
   "outputs": [],
   "source": [
    "# Example 8: List comprehension\n",
    "squared_numbers = [x**2 for x in range(5)]\n",
    "print(\"Squared Numbers:\", squared_numbers)\n",
    "# Output: Squared Numbers: [0, 1, 4, 9, 16]"
   ]
  },
  {
   "cell_type": "markdown",
   "metadata": {},
   "source": [
    "### 9. Finding the Length of a List"
   ]
  },
  {
   "cell_type": "code",
   "execution_count": null,
   "metadata": {},
   "outputs": [],
   "source": [
    "# Example 9: Finding the length of a list\n",
    "num_fruits = len(fruits)\n",
    "print(\"Number of Fruits:\", num_fruits)\n",
    "# Output: Number of Fruits: 4"
   ]
  },
  {
   "cell_type": "markdown",
   "metadata": {},
   "source": [
    "______________________________________________________________________________________________________\n",
    "## Working with Tuple"
   ]
  },
  {
   "cell_type": "markdown",
   "metadata": {},
   "source": [
    "1. Creating a Tuple\n",
    "2. Accessing Elements of a Tuple\n",
    "3. Slicing a Tuple\n",
    "4. Immutable Nature of Tuple\n",
    "5. Combining Tuples\n",
    "6. Tuple Unpacking\n",
    "7. Nested Tuples\n",
    "8. Finding the Length of a Tuple"
   ]
  },
  {
   "cell_type": "markdown",
   "metadata": {},
   "source": [
    "### 1. Creating a Tuple"
   ]
  },
  {
   "cell_type": "code",
   "execution_count": null,
   "metadata": {},
   "outputs": [],
   "source": [
    "# Example 1: Creating a tuple\n",
    "fruits_tuple = ('apple', 'banana', 'orange', 'grape')\n",
    "print(fruits_tuple)\n",
    "# Output: ('apple', 'banana', 'orange', 'grape')"
   ]
  },
  {
   "cell_type": "markdown",
   "metadata": {},
   "source": [
    "### 2. Accessing Elements of a Tuple"
   ]
  },
  {
   "cell_type": "code",
   "execution_count": null,
   "metadata": {},
   "outputs": [],
   "source": [
    "# Example 2: Accessing elements in a tuple\n",
    "first_fruit = fruits_tuple[0]\n",
    "last_fruit = fruits_tuple[-1]\n",
    "print(\"First Fruit:\", first_fruit)\n",
    "print(\"Last Fruit:\", last_fruit)\n",
    "# Output: First Fruit: apple\n",
    "#         Last Fruit: grape"
   ]
  },
  {
   "cell_type": "markdown",
   "metadata": {},
   "source": [
    "### 3. Slicing a Tuple"
   ]
  },
  {
   "cell_type": "code",
   "execution_count": null,
   "metadata": {},
   "outputs": [],
   "source": [
    "# Example 3: Slicing a tuple\n",
    "selected_fruits = fruits_tuple[1:3]\n",
    "print(\"Selected Fruits:\", selected_fruits)\n",
    "# Output: Selected Fruits: ('banana', 'orange')"
   ]
  },
  {
   "cell_type": "markdown",
   "metadata": {},
   "source": [
    "### 4. Immutable Nature of Tuple"
   ]
  },
  {
   "cell_type": "code",
   "execution_count": null,
   "metadata": {},
   "outputs": [],
   "source": [
    "# Example 4: Attempting to modify a tuple (results in an error)\n",
    "# fruits_tuple[2] = 'kiwi'  # Uncommenting this line will raise an error\n",
    "# Output: TypeError: 'tuple' object does not support item assignment"
   ]
  },
  {
   "cell_type": "markdown",
   "metadata": {},
   "source": [
    "### 5. Combining Tuples"
   ]
  },
  {
   "cell_type": "code",
   "execution_count": null,
   "metadata": {},
   "outputs": [],
   "source": [
    "# Example 5: Combining tuples\n",
    "more_fruits = ('pineapple', 'watermelon')\n",
    "all_fruits = fruits_tuple + more_fruits\n",
    "print(\"All Fruits:\", all_fruits)\n",
    "# Output: All Fruits: ('apple', 'banana', 'orange', 'grape', 'pineapple', 'watermelon')"
   ]
  },
  {
   "cell_type": "markdown",
   "metadata": {},
   "source": [
    "### 6. Tuple Unpacking"
   ]
  },
  {
   "cell_type": "code",
   "execution_count": null,
   "metadata": {},
   "outputs": [],
   "source": [
    "# Example 6: Tuple unpacking\n",
    "first, second, *rest = fruits_tuple\n",
    "print(\"First:\", first)\n",
    "print(\"Second:\", second)\n",
    "print(\"Rest:\", rest)\n",
    "# Output: First: apple\n",
    "#         Second: banana\n",
    "#         Rest: ['orange', 'grape']"
   ]
  },
  {
   "cell_type": "markdown",
   "metadata": {},
   "source": [
    "### 7. Nested Tuples"
   ]
  },
  {
   "cell_type": "code",
   "execution_count": null,
   "metadata": {},
   "outputs": [],
   "source": [
    "# Example 7: Nested tuples\n",
    "nested_tuple = (1, 2, ('apple', 'banana'), 3)\n",
    "print(\"Nested Tuple:\", nested_tuple)\n",
    "# Output: Nested Tuple: (1, 2, ('apple', 'banana'), 3)"
   ]
  },
  {
   "cell_type": "markdown",
   "metadata": {},
   "source": [
    "### 8. Finding the Length of a Tuple"
   ]
  },
  {
   "cell_type": "code",
   "execution_count": null,
   "metadata": {},
   "outputs": [],
   "source": [
    "# Example 8: Finding the length of a tuple\n",
    "num_fruits = len(fruits_tuple)\n",
    "print(\"Number of Fruits:\", num_fruits)\n",
    "# Output: Number of Fruits: 4"
   ]
  },
  {
   "cell_type": "markdown",
   "metadata": {},
   "source": [
    "______________________________________________________________________________________________________\n",
    "## Working with Dictionary"
   ]
  },
  {
   "cell_type": "markdown",
   "metadata": {},
   "source": [
    "1. Creating a Dictionary\n",
    "2. Accessing Dictionary Values \n",
    "3. Modifying Dictionary Values\n",
    "4. Adding New Key-Value Pairs to a Dictionary\n",
    "5. Removing Key-Value Pairs from Dictionary\n",
    "6. Iterating Through a Dictionary\n",
    "7. Dictionary Comprehension\n",
    "8. Checking Key Existence in a Dictionary"
   ]
  },
  {
   "cell_type": "markdown",
   "metadata": {},
   "source": [
    "### 1. Creating a Dictionary"
   ]
  },
  {
   "cell_type": "code",
   "execution_count": null,
   "metadata": {},
   "outputs": [],
   "source": [
    "# Example 1: Creating a dictionary\n",
    "person_info = {'name': 'John', 'age': 25, 'city': 'New York'}\n",
    "print(person_info)\n",
    "# Output: {'name': 'John', 'age': 25, 'city': 'New York'}"
   ]
  },
  {
   "cell_type": "markdown",
   "metadata": {},
   "source": [
    "### 2. Accessing Dictionary Values "
   ]
  },
  {
   "cell_type": "code",
   "execution_count": null,
   "metadata": {},
   "outputs": [],
   "source": [
    "# Example 2: Accessing values in a dictionary\n",
    "name_value = person_info['name']\n",
    "age_value = person_info.get('age')\n",
    "print(\"Name:\", name_value)\n",
    "print(\"Age:\", age_value)\n",
    "# Output: Name: John\n",
    "#         Age: 25"
   ]
  },
  {
   "cell_type": "markdown",
   "metadata": {},
   "source": [
    "### 3. Modifying Dictionary Values"
   ]
  },
  {
   "cell_type": "code",
   "execution_count": null,
   "metadata": {},
   "outputs": [],
   "source": [
    "# Example 3: Modifying values in a dictionary\n",
    "person_info['age'] = 26\n",
    "print(\"Updated Person Info:\", person_info)\n",
    "# Output: Updated Person Info: {'name': 'John', 'age': 26, 'city': 'New York'}"
   ]
  },
  {
   "cell_type": "markdown",
   "metadata": {},
   "source": [
    "### 4. Adding New Key-Value Pairs to a Dictionary"
   ]
  },
  {
   "cell_type": "code",
   "execution_count": null,
   "metadata": {},
   "outputs": [],
   "source": [
    "# Example 4: Adding new key-value pairs to a dictionary\n",
    "person_info['occupation'] = 'Engineer'\n",
    "print(\"Updated Person Info:\", person_info)\n",
    "# Output: Updated Person Info: {'name': 'John', 'age': 26, 'city': 'New York', 'occupation': 'Engineer'}"
   ]
  },
  {
   "cell_type": "markdown",
   "metadata": {},
   "source": [
    "### 5. Removing Key-Value Pairs from Dictionary"
   ]
  },
  {
   "cell_type": "code",
   "execution_count": null,
   "metadata": {},
   "outputs": [],
   "source": [
    "# Example 5: Removing key-value pairs from a dictionary\n",
    "removed_city = person_info.pop('city')\n",
    "print(\"Removed City:\", removed_city)\n",
    "print(\"Remaining Person Info:\", person_info)\n",
    "# Output: Removed City: New York\n",
    "#         Remaining Person Info: {'name': 'John', 'age': 26, 'occupation': 'Engineer'}"
   ]
  },
  {
   "cell_type": "markdown",
   "metadata": {},
   "source": [
    "### 6. Iterating Through a Dictionary"
   ]
  },
  {
   "cell_type": "code",
   "execution_count": null,
   "metadata": {},
   "outputs": [],
   "source": [
    "# Example 6: Iterating through a dictionary\n",
    "print(\"Person Info:\")\n",
    "for key, value in person_info.items():\n",
    "    print(f\"{key}: {value}\")\n",
    "# Output:\n",
    "# Person Info:\n",
    "# name: John\n",
    "# age: 26\n",
    "# occupation: Engineer"
   ]
  },
  {
   "cell_type": "markdown",
   "metadata": {},
   "source": [
    "### 7. Dictionary Comprehension"
   ]
  },
  {
   "cell_type": "code",
   "execution_count": null,
   "metadata": {},
   "outputs": [],
   "source": [
    "# Example 7: Dictionary comprehension\n",
    "squared_dict = {x: x**2 for x in range(5)}\n",
    "print(\"Squared Dictionary:\", squared_dict)\n",
    "# Output: Squared Dictionary: {0: 0, 1: 1, 2: 4, 3: 9, 4: 16}"
   ]
  },
  {
   "cell_type": "markdown",
   "metadata": {},
   "source": [
    "### 8. Checking Key Existence in a Dictionary"
   ]
  },
  {
   "cell_type": "code",
   "execution_count": null,
   "metadata": {},
   "outputs": [],
   "source": [
    "# Example 8: Checking key existence in a dictionary\n",
    "is_occupation_exist = 'occupation' in person_info\n",
    "print(\"Does 'occupation' exist?\", is_occupation_exist)\n",
    "# Output: Does 'occupation' exist? True"
   ]
  },
  {
   "cell_type": "markdown",
   "metadata": {},
   "source": [
    "- #### Example:"
   ]
  },
  {
   "cell_type": "code",
   "execution_count": null,
   "metadata": {},
   "outputs": [],
   "source": [
    "# Example: Sustainable Energy Management Dictionary\n",
    "energy_sources = {\n",
    "    'solar': {\n",
    "        'description': 'Converts sunlight into electricity using photovoltaic cells.',\n",
    "        'advantages': ['Clean energy', 'Low operating costs'],\n",
    "        'disadvantages': ['Intermittent power generation', 'High initial costs']\n",
    "    },\n",
    "    'wind': {\n",
    "        'description': 'Generates electricity by harnessing the power of wind to turn turbines.',\n",
    "        'advantages': ['Renewable', 'Low greenhouse gas emissions'],\n",
    "        'disadvantages': ['Visual impact', 'Intermittent nature']\n",
    "    },\n",
    "    'hydro': {\n",
    "        'description': 'Produces electricity by capturing the energy of flowing water.',\n",
    "        'advantages': ['Reliable power generation', 'Low operating costs'],\n",
    "        'disadvantages': ['Environmental impact', 'Dependence on water availability']\n",
    "    },\n",
    "    'geothermal': {\n",
    "        'description': 'Extracts heat from the Earth to generate electricity.',\n",
    "        'advantages': ['Steady power production', 'Low emissions'],\n",
    "        'disadvantages': ['Limited geographical availability', 'High upfront costs']\n",
    "    }\n",
    "}\n",
    "\n",
    "# Accessing information about solar energy\n",
    "solar_description = energy_sources['solar']['description']\n",
    "solar_advantages = energy_sources['solar']['advantages']\n",
    "solar_disadvantages = energy_sources['solar']['disadvantages']\n",
    "\n",
    "# Displaying information about solar energy\n",
    "print(\"Solar Energy:\")\n",
    "print(\"Description:\", solar_description)\n",
    "print(\"Advantages:\", solar_advantages)\n",
    "print(\"Disadvantages:\", solar_disadvantages)\n"
   ]
  },
  {
   "cell_type": "markdown",
   "metadata": {},
   "source": [
    "______________________________________________________________________________________________________\n",
    "## Working with Range"
   ]
  },
  {
   "cell_type": "markdown",
   "metadata": {},
   "source": [
    "1. Creating a Range\n",
    "2. Specifying Start and End in a Range\n",
    "3. Specifying Step Size in Range\n",
    "4. Using Range in a For Loop\n",
    "5. Checking Membership of a Range\n",
    "6. Generating a Sequence of Squares in Range\n",
    "7. Using Range with len()\n",
    "8. Reversing a Range"
   ]
  },
  {
   "cell_type": "markdown",
   "metadata": {},
   "source": [
    "### 1. Creating a Range"
   ]
  },
  {
   "cell_type": "code",
   "execution_count": null,
   "metadata": {},
   "outputs": [],
   "source": [
    "# Example 1: Creating a range\n",
    "my_range = range(5)\n",
    "print(list(my_range))\n",
    "# Output: [0, 1, 2, 3, 4]"
   ]
  },
  {
   "cell_type": "markdown",
   "metadata": {},
   "source": [
    "### 2. Specifying Start and End in a Range"
   ]
  },
  {
   "cell_type": "code",
   "execution_count": null,
   "metadata": {},
   "outputs": [],
   "source": [
    "# Example 2: Specifying start and end in a range\n",
    "custom_range = range(2, 8)\n",
    "print(list(custom_range))\n",
    "# Output: [2, 3, 4, 5, 6, 7]"
   ]
  },
  {
   "cell_type": "markdown",
   "metadata": {},
   "source": [
    "### 3. Specifying Step Size in Range"
   ]
  },
  {
   "cell_type": "code",
   "execution_count": null,
   "metadata": {},
   "outputs": [],
   "source": [
    "# Example 3: Specifying step size in a range\n",
    "step_range = range(1, 10, 2)\n",
    "print(list(step_range))\n",
    "# Output: [1, 3, 5, 7, 9]"
   ]
  },
  {
   "cell_type": "markdown",
   "metadata": {},
   "source": [
    "### 4. Using Range in a For Loop"
   ]
  },
  {
   "cell_type": "code",
   "execution_count": null,
   "metadata": {},
   "outputs": [],
   "source": [
    "# Example 4: Using range in a for loop\n",
    "for num in range(3):\n",
    "    print(num)\n",
    "# Output:\n",
    "# 0\n",
    "# 1\n",
    "# 2"
   ]
  },
  {
   "cell_type": "markdown",
   "metadata": {},
   "source": [
    "### 5. Checking Membership of a Range"
   ]
  },
  {
   "cell_type": "code",
   "execution_count": null,
   "metadata": {},
   "outputs": [],
   "source": [
    "# Example 5: Checking membership in a range\n",
    "check_membership = 3 in range(5)\n",
    "print(check_membership)\n",
    "# Output: True"
   ]
  },
  {
   "cell_type": "markdown",
   "metadata": {},
   "source": [
    "### 6. Generating a Sequence of Squares in Range"
   ]
  },
  {
   "cell_type": "code",
   "execution_count": null,
   "metadata": {},
   "outputs": [],
   "source": [
    "# Example 5: Checking membership in a range\n",
    "check_membership = 3 in range(5)\n",
    "print(check_membership)\n",
    "# Output: True"
   ]
  },
  {
   "cell_type": "markdown",
   "metadata": {},
   "source": [
    "### 7. Using Range with len()"
   ]
  },
  {
   "cell_type": "code",
   "execution_count": null,
   "metadata": {},
   "outputs": [],
   "source": [
    "# Example 7: Using range with len() for indexing\n",
    "my_list = ['apple', 'banana', 'orange', 'grape']\n",
    "for i in range(len(my_list)):\n",
    "    print(f\"Index {i}: {my_list[i]}\")\n",
    "# Output:\n",
    "# Index 0: apple\n",
    "# Index 1: banana\n",
    "# Index 2: orange\n",
    "# Index 3: grape"
   ]
  },
  {
   "cell_type": "markdown",
   "metadata": {},
   "source": [
    "### 8. Reversing a Range"
   ]
  },
  {
   "cell_type": "code",
   "execution_count": null,
   "metadata": {},
   "outputs": [],
   "source": [
    "# Example 8: Reversing a range\n",
    "reversed_range = range(5, 0, -1)\n",
    "print(list(reversed_range))\n",
    "# Output: [5, 4, 3, 2, 1]"
   ]
  },
  {
   "cell_type": "markdown",
   "metadata": {},
   "source": [
    "______________________________________________________________________________________________________\n",
    "## Working with Set"
   ]
  },
  {
   "cell_type": "markdown",
   "metadata": {},
   "source": [
    "1. Creating a Set\n",
    "2. Adding Elements to a Set\n",
    "3. Removing Elements from a Set\n",
    "4. Set Operations\n",
    "5. Checking Membership in a Set\n",
    "6. Iterating Through a Set\n",
    "7. Set Comprehension"
   ]
  },
  {
   "cell_type": "markdown",
   "metadata": {},
   "source": [
    "### 1. Creating a Set"
   ]
  },
  {
   "cell_type": "code",
   "execution_count": null,
   "metadata": {},
   "outputs": [],
   "source": [
    "# Example 1: Creating a set\n",
    "fruits_set = {'apple', 'banana', 'orange', 'grape'}\n",
    "print(fruits_set)\n",
    "# Output: {'apple', 'banana', 'orange', 'grape'}"
   ]
  },
  {
   "cell_type": "markdown",
   "metadata": {},
   "source": [
    "### 2. Adding Elements to a Set"
   ]
  },
  {
   "cell_type": "code",
   "execution_count": null,
   "metadata": {},
   "outputs": [],
   "source": [
    "# Example 2: Adding elements to a set\n",
    "fruits_set.add('pineapple')\n",
    "print(\"Updated Fruits Set:\", fruits_set)\n",
    "# Output: Updated Fruits Set: {'apple', 'banana', 'orange', 'grape', 'pineapple'}"
   ]
  },
  {
   "cell_type": "markdown",
   "metadata": {},
   "source": [
    "### 3. Removing Elements from a Set"
   ]
  },
  {
   "cell_type": "code",
   "execution_count": null,
   "metadata": {},
   "outputs": [],
   "source": [
    "# Example 3: Removing elements from a set\n",
    "fruits_set.remove('banana')\n",
    "print(\"Updated Fruits Set:\", fruits_set)\n",
    "# Output: Updated Fruits Set: {'apple', 'orange', 'grape', 'pineapple'}"
   ]
  },
  {
   "cell_type": "markdown",
   "metadata": {},
   "source": [
    "### 4. Set Operations"
   ]
  },
  {
   "cell_type": "code",
   "execution_count": null,
   "metadata": {},
   "outputs": [],
   "source": [
    "# Example 4: Set operations (union, intersection, difference)\n",
    "set1 = {1, 2, 3, 4, 5}\n",
    "set2 = {4, 5, 6, 7, 8}\n",
    "\n",
    "union_result = set1.union(set2)\n",
    "intersection_result = set1.intersection(set2)\n",
    "difference_result = set1.difference(set2)\n",
    "\n",
    "print(\"Union:\", union_result)\n",
    "print(\"Intersection:\", intersection_result)\n",
    "print(\"Difference:\", difference_result)\n",
    "# Output:\n",
    "# Union: {1, 2, 3, 4, 5, 6, 7, 8}\n",
    "# Intersection: {4, 5}\n",
    "# Difference: {1, 2, 3}"
   ]
  },
  {
   "cell_type": "markdown",
   "metadata": {},
   "source": [
    "### 5. Checking Membership in a Set"
   ]
  },
  {
   "cell_type": "code",
   "execution_count": null,
   "metadata": {},
   "outputs": [],
   "source": [
    "# Example 5: Checking membership in a set\n",
    "check_membership = 'orange' in fruits_set\n",
    "print(\"Is 'orange' in the set?\", check_membership)\n",
    "# Output: Is 'orange' in the set? True"
   ]
  },
  {
   "cell_type": "markdown",
   "metadata": {},
   "source": [
    "### 6. Iterating Through a Set"
   ]
  },
  {
   "cell_type": "code",
   "execution_count": null,
   "metadata": {},
   "outputs": [],
   "source": [
    "# Example 6: Iterating through a set\n",
    "print(\"Fruits Set:\")\n",
    "for fruit in fruits_set:\n",
    "    print(fruit)\n",
    "# Output:\n",
    "# Fruits Set:\n",
    "# apple\n",
    "# orange\n",
    "# grape\n",
    "# pineapple"
   ]
  },
  {
   "cell_type": "markdown",
   "metadata": {},
   "source": [
    "### 7. Set Comprehension"
   ]
  },
  {
   "cell_type": "code",
   "execution_count": null,
   "metadata": {},
   "outputs": [],
   "source": [
    "# Example 7: Set comprehension\n",
    "squared_set = {x**2 for x in range(5)}\n",
    "print(\"Squared Set:\", squared_set)\n",
    "# Output: Squared Set: {0, 1, 4, 9, 16}"
   ]
  }
 ],
 "metadata": {
  "kernelspec": {
   "display_name": "Python 3 (ipykernel)",
   "language": "python",
   "name": "python3"
  },
  "language_info": {
   "codemirror_mode": {
    "name": "ipython",
    "version": 3
   },
   "file_extension": ".py",
   "mimetype": "text/x-python",
   "name": "python",
   "nbconvert_exporter": "python",
   "pygments_lexer": "ipython3",
   "version": "3.12.1"
  }
 },
 "nbformat": 4,
 "nbformat_minor": 4
}
