{
 "cells": [
  {
   "attachments": {},
   "cell_type": "markdown",
   "metadata": {
    "jp-MarkdownHeadingCollapsed": true,
    "jupyter": {
     "source_hidden": true
    }
   },
   "source": [
    "\n",
    "#### &nbsp;&nbsp;&nbsp;&nbsp;&nbsp;&nbsp;&nbsp;&nbsp;&nbsp;&nbsp;&nbsp;&nbsp;&nbsp;&nbsp;&nbsp;&nbsp;&nbsp;&nbsp;&nbsp;&nbsp;&nbsp;&nbsp;&nbsp;&nbsp;&nbsp;&nbsp;&nbsp;&nbsp;&nbsp;&nbsp;&nbsp;&nbsp;&nbsp;&nbsp;&nbsp;&nbsp;&nbsp;&nbsp;&nbsp;&nbsp;&nbsp;&nbsp;&nbsp;&nbsp;&nbsp;&nbsp;&nbsp;&nbsp;&nbsp;&nbsp;&nbsp;&nbsp;&nbsp;&nbsp;&nbsp;&nbsp;&nbsp;&nbsp;&nbsp;&nbsp;🐍Python Refresher for Sustainable Energy Management Module\n",
    "#### &nbsp;&nbsp;&nbsp;&nbsp;&nbsp;&nbsp;&nbsp;&nbsp;&nbsp;&nbsp;&nbsp;&nbsp;&nbsp;&nbsp;&nbsp;&nbsp;&nbsp;&nbsp;&nbsp;&nbsp;&nbsp;&nbsp;&nbsp;&nbsp;&nbsp;&nbsp;&nbsp;&nbsp;&nbsp;&nbsp;&nbsp;&nbsp;&nbsp;&nbsp;&nbsp;&nbsp;&nbsp;&nbsp;&nbsp;&nbsp;&nbsp;&nbsp;&nbsp;&nbsp;&nbsp;&nbsp;&nbsp;&nbsp;&nbsp;&nbsp;&nbsp;&nbsp;&nbsp;&nbsp;&nbsp;&nbsp;&nbsp;&nbsp;&nbsp;&nbsp;&nbsp;&nbsp;&nbsp;&nbsp;&nbsp;&nbsp;&nbsp;&nbsp;&nbsp;&nbsp;&nbsp;&nbsp;&nbsp;&nbsp;&nbsp;&nbsp;&nbsp;&nbsp;&nbsp;&nbsp;&nbsp;&nbsp;&nbsp;&nbsp;&nbsp;&nbsp;&nbsp;&nbsp;&nbsp;&nbsp;🎓Nottingham Trent University\n",
    "______________________________________________________________________________________________________"
   ]
  },
  {
   "cell_type": "markdown",
   "metadata": {},
   "source": [
    "##### 3-Getting Started with Python\n",
    "### Python Basics - Operators, Conditional statements (if, elif, else)\n",
    "______________________________________________________________________________________________________"
   ]
  },
  {
   "cell_type": "markdown",
   "metadata": {},
   "source": [
    "## Outline\n",
    "- Assignment Operators\n",
    "- Comparison Operators\n",
    "- Conditional Statements\n",
    "  - if statement\n",
    "  - if-else statement\n",
    "  - if-elif-else statement\n",
    "  - Nested if statement\n",
    "- Logical Operators\n",
    "  - AND\n",
    "  - OR\n",
    "  - Combined with Conditional Statements:\n",
    "- Time⌚to Code💻"
   ]
  },
  {
   "cell_type": "markdown",
   "metadata": {},
   "source": [
    "______________________________________________________________________________________________________\n",
    "## Assignment Operators "
   ]
  },
  {
   "cell_type": "markdown",
   "metadata": {},
   "source": [
    "The most common assignment operator is one you have already used: the equals sign =. The = assignment operator assigns the value on the right to a variable on the left. For example, v = 23 assigns the value of the integer 23 to the variable v.\r\n",
    "\r\n",
    "When programming, it is common to use compound assignment operators that perform an operation on a variable’s value and then assign the resulting new value to that variable. These compound operators combine an arithmetic operator with the = operator, so for addii,on we’ll combine + with = to get the compound operator +=. Let’s review what that looks like:"
   ]
  },
  {
   "cell_type": "code",
   "execution_count": null,
   "metadata": {},
   "outputs": [],
   "source": [
    "w = 5\n",
    "w += 1\n",
    "print(w)"
   ]
  },
  {
   "cell_type": "markdown",
   "metadata": {},
   "source": [
    "- First, we set the variable w equal to the value of 5, then we used the += compound assignment operator to add the right number to the value of the left variable and then assign the result to w.\n",
    "- The above code is a simple form of this code:\n"
   ]
  },
  {
   "cell_type": "code",
   "execution_count": null,
   "metadata": {},
   "outputs": [],
   "source": [
    "w=5\n",
    "w=w+1\n",
    "print(w)"
   ]
  },
  {
   "cell_type": "markdown",
   "metadata": {},
   "source": [
    "- In fact compound assignment operator prevents repeated writing of the variable w in this case\n",
    "- Python has a compound assignment operator for each of the arithmetic operators discussed in this tutorial:"
   ]
  },
  {
   "cell_type": "code",
   "execution_count": null,
   "metadata": {},
   "outputs": [],
   "source": [
    "y=15\n",
    "print(f\"y= {y}\")\n",
    "y += 1\t\t\t# add then assign value\n",
    "print(f\"y= {y}\")\n",
    "y -= 1\t\t\t# subtract then assign value\n",
    "print(f\"y= {y}\")\n",
    "y *= 2\t\t\t# multiply then assign value\n",
    "print(f\"y= {y}\")\n",
    "y /= 3\t\t\t# divide then assign value\n",
    "print(f\"y= {y}\")\n",
    "y **= 2\t\t\t# increase to the power of then assign value\n",
    "print(f\"y= {y}\")\n",
    "y %= 3\t\t\t# return remainder then assign value\n",
    "print(f\"y= {y}\")"
   ]
  },
  {
   "cell_type": "markdown",
   "metadata": {},
   "source": [
    "______________________________________________________________________________________________________\n",
    "## Comparison Operators < > >= <=  ==\n",
    "\n",
    "\n",
    "\r\n",
    "Comparison operators are essential tools for making decisions and comparisons in Python. They allow you to evaluate relationships between values and express conditions in your cdoe.\r\n",
    "\r\n",
    "Here are the common comparison operators in Python:"
   ]
  },
  {
   "cell_type": "markdown",
   "metadata": {},
   "source": [
    "Equal to (==): Checks if two values are equal."
   ]
  },
  {
   "cell_type": "code",
   "execution_count": null,
   "metadata": {},
   "outputs": [],
   "source": [
    "x = 5; y = 5; print(x == y) # Output: True"
   ]
  },
  {
   "cell_type": "markdown",
   "metadata": {},
   "source": [
    "Not equal to (!=): Checks if two values are not equal."
   ]
  },
  {
   "cell_type": "code",
   "execution_count": null,
   "metadata": {},
   "outputs": [],
   "source": [
    "name = \"Alice\"; name != \"Bob\" # Output: True"
   ]
  },
  {
   "cell_type": "markdown",
   "metadata": {},
   "source": [
    "Greater than (>): Checks if the left value is greater than the right value."
   ]
  },
  {
   "cell_type": "code",
   "execution_count": null,
   "metadata": {},
   "outputs": [],
   "source": [
    "age = 25; age > 18 # Output: True"
   ]
  },
  {
   "cell_type": "markdown",
   "metadata": {},
   "source": [
    "Less than (<): Checks if the left value is less than the right value."
   ]
  },
  {
   "cell_type": "code",
   "execution_count": null,
   "metadata": {},
   "outputs": [],
   "source": [
    "temperature = 20; temperature < 30 # Output: True"
   ]
  },
  {
   "cell_type": "markdown",
   "metadata": {},
   "source": [
    "Greater than or equal to (>=): Checks if the left value is greater than or equal to the right value."
   ]
  },
  {
   "cell_type": "code",
   "execution_count": null,
   "metadata": {},
   "outputs": [],
   "source": [
    "score = 95; score >= 90 # Output: True"
   ]
  },
  {
   "cell_type": "markdown",
   "metadata": {},
   "source": [
    "Less than or equal to (<=): Checks if the left value is less than or equal to the right value."
   ]
  },
  {
   "cell_type": "code",
   "execution_count": null,
   "metadata": {},
   "outputs": [],
   "source": [
    "speed = 60; speed <= 70 # Output: True"
   ]
  },
  {
   "cell_type": "code",
   "execution_count": null,
   "metadata": {},
   "outputs": [],
   "source": [
    "# Example of the greater than operator\n",
    "x = 5\n",
    "y = 3\n",
    "\n",
    "result_gt = x > y\n",
    "print(f\"{x} > {y}: {result_gt}\")"
   ]
  },
  {
   "cell_type": "code",
   "execution_count": null,
   "metadata": {},
   "outputs": [],
   "source": [
    "# Example of the greater than or equal to operator\n",
    "result_gte = x >= y\n",
    "print(f\"{x} >= {y}: {result_gte}\")"
   ]
  },
  {
   "cell_type": "markdown",
   "metadata": {},
   "source": [
    "______________________________________________________________________________________________________\n",
    "## Conditional Statements\n",
    "- ### if statement\n",
    "  An “if” statement is a fundamental concept in programming that allows for decision making based on specified conditions. It works by evaluating a condition to be either true or false. If the condition is true, a certain set of actions is performed."
   ]
  },
  {
   "cell_type": "code",
   "execution_count": null,
   "metadata": {},
   "outputs": [],
   "source": [
    "temperature = 32\n",
    "\n",
    "if temperature > 30:\n",
    "    print(\"It's a hot day.\")\n",
    "    print(\"Remember to stay hydrated.\")"
   ]
  },
  {
   "cell_type": "code",
   "execution_count": null,
   "metadata": {},
   "outputs": [],
   "source": [
    "# Basic example of an if statement\n",
    "temperature = 25\n",
    "\n",
    "if temperature > 30:\n",
    "    print(\"It's a hot day.\")\n",
    "    print(\"Remember to stay hydrated.\")"
   ]
  },
  {
   "cell_type": "markdown",
   "metadata": {},
   "source": [
    "- ### if else statement\n",
    "  Consider a situation you want to perform a set of action if the condition is not true **if else** statement give you possibility to do that."
   ]
  },
  {
   "cell_type": "code",
   "execution_count": null,
   "metadata": {},
   "outputs": [],
   "source": [
    "# Basic example of an if else statement\n",
    "temperature = 25\n",
    "\n",
    "if temperature > 30:\n",
    "    print(\"It's a hot day.\")\n",
    "    print(\"Remember to stay hydrated.\")\n",
    "else:\n",
    "    print(\"It's a pleasant day.\")"
   ]
  },
  {
   "attachments": {},
   "cell_type": "markdown",
   "metadata": {},
   "source": [
    "- ### if-elif-else statement\n",
    "-  You can use \"elif\" (short for \"else if\") to check multiple conditions in a row, like asking a series of questions."
   ]
  },
  {
   "cell_type": "code",
   "execution_count": null,
   "metadata": {},
   "outputs": [],
   "source": [
    "grade = 85\n",
    "if grade >= 90:\n",
    "    print(\"Excellent!\")\n",
    "elif grade >= 80:\n",
    "    print(\"Very good!\")\n",
    "else:\n",
    "    print(\"Keep working hard!\")"
   ]
  },
  {
   "attachments": {},
   "cell_type": "markdown",
   "metadata": {},
   "source": [
    "- ### Nested if statement\n",
    "-  A **“nested if”** statement is a concept in programming where an “if” statement is placed inside another “if” statement. This allows for more complex decision-making processes by checking multiple conditions\n",
    "-  Suppose you are designing a control system for a temperature-regulating device, and you want to implement a set of conditions to control the heating and cooling elements based on the current temperature. Here's a conceptual example using nested if statements:"
   ]
  },
  {
   "cell_type": "code",
   "execution_count": null,
   "metadata": {},
   "outputs": [],
   "source": [
    "current_temperature = 25  # Example temperature in degrees Celsius\n",
    "\n",
    "# Outer if statement to check if the temperature is within a certain range\n",
    "if current_temperature < 20:\n",
    "    # Inner if statement to check if additional heating is needed\n",
    "    if current_temperature < 10:\n",
    "        print(\"Temperature is too low. Increase heating.\")\n",
    "    else:\n",
    "        print(\"Temperature is low. Consider turning on heating.\")\n",
    "\n",
    "elif current_temperature > 30:\n",
    "    # Inner if statement to check if cooling is needed\n",
    "    if current_temperature > 35:\n",
    "        print(\"Temperature is too high. Activate cooling.\")\n",
    "    else:\n",
    "        print(\"Temperature is high. Consider turning on cooling.\")\n",
    "\n",
    "else:\n",
    "    print(\"Temperature is within the desired range. No action needed.\")"
   ]
  },
  {
   "cell_type": "markdown",
   "metadata": {},
   "source": [
    "______________________________________________________________________________________________________\n",
    "## Logical Operators\n",
    "- ### AND\n",
    "- \n",
    "In Python the **<span style=\"color:green\">and</span>**  logical operator returns True only if both conditions it connects are true."
   ]
  },
  {
   "cell_type": "code",
   "execution_count": null,
   "metadata": {},
   "outputs": [],
   "source": [
    "x = 10\n",
    "y = 15\n",
    "if x > 5 and y > 10:\n",
    "    print(\"Both conditions are True\")"
   ]
  },
  {
   "cell_type": "code",
   "execution_count": null,
   "metadata": {},
   "outputs": [],
   "source": [
    "name = \"Alice\"\n",
    "age = 25\n",
    "if name == \"Bob\" and age == 30:\n",
    "    print(\"This won't print because both conditions aren't True\")"
   ]
  },
  {
   "cell_type": "markdown",
   "metadata": {},
   "source": [
    "- ### OR\n",
    "- The **<span style=\"color:green\">OR</span>** logical operator returns True if at least one of the conditions is true."
   ]
  },
  {
   "cell_type": "code",
   "execution_count": null,
   "metadata": {},
   "outputs": [],
   "source": [
    "temperature = 28\n",
    "if temperature > 30 or temperature < 20:\n",
    "    print(\"The temperature is either too hot or too cold\")"
   ]
  },
  {
   "cell_type": "code",
   "execution_count": null,
   "metadata": {},
   "outputs": [],
   "source": [
    "has_ticket = False\n",
    "is_member = True\n",
    "if has_ticket or is_member:\n",
    "    print(\"You can enter\")"
   ]
  },
  {
   "cell_type": "markdown",
   "metadata": {},
   "source": [
    "- ### Combined with Conditional Statements:"
   ]
  },
  {
   "cell_type": "code",
   "execution_count": null,
   "metadata": {},
   "outputs": [],
   "source": [
    "grade = 88\n",
    "if grade >= 90:\n",
    "    print(\"Excellent!\")\n",
    "elif grade >= 80 and grade < 90:\n",
    "    print(\"Very good!\")\n",
    "else:\n",
    "    print(\"Keep working hard!\")"
   ]
  },
  {
   "cell_type": "markdown",
   "metadata": {},
   "source": [
    "______________________________________________________________________________________________________\n",
    "### Time⌚to Code💻\n",
    "1️⃣ Write a code\n",
    "- In the code request from the user to input the time morning, afternoon, evening\n",
    "- get the time and if the time of day was the same print good+ time of the day\n",
    "- if the user entered another word print hello please just enter a time of day!"
   ]
  },
  {
   "cell_type": "code",
   "execution_count": null,
   "metadata": {},
   "outputs": [],
   "source": []
  },
  {
   "cell_type": "markdown",
   "metadata": {},
   "source": [
    "2️⃣ Write a code\n",
    "- In the code get your phone charge percentage and your friend in class\n",
    "- use logic operators and conditional statements\n",
    "- print I need your phone if your phone is under 5% and your classmate is more than 5%\n",
    "- print We are disconnected from Word if both of you have zero battery\n",
    "- print charger is not needed anymore if you are equal and higher than 90%\n",
    "- print we are friends forever if you have the same battery percentage\n",
    "- else print The end!"
   ]
  },
  {
   "cell_type": "code",
   "execution_count": null,
   "metadata": {},
   "outputs": [],
   "source": []
  }
 ],
 "metadata": {
  "kernelspec": {
   "display_name": "Python 3 (ipykernel)",
   "language": "python",
   "name": "python3"
  },
  "language_info": {
   "codemirror_mode": {
    "name": "ipython",
    "version": 3
   },
   "file_extension": ".py",
   "mimetype": "text/x-python",
   "name": "python",
   "nbconvert_exporter": "python",
   "pygments_lexer": "ipython3",
   "version": "3.12.1"
  }
 },
 "nbformat": 4,
 "nbformat_minor": 4
}
