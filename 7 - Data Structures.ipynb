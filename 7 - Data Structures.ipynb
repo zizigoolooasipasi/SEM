{
 "cells": [
  {
   "cell_type": "markdown",
   "metadata": {
    "jp-MarkdownHeadingCollapsed": true
   },
   "source": [
    "\n",
    "#### &nbsp;&nbsp;&nbsp;&nbsp;&nbsp;&nbsp;&nbsp;&nbsp;&nbsp;&nbsp;&nbsp;&nbsp;&nbsp;&nbsp;&nbsp;&nbsp;&nbsp;&nbsp;&nbsp;&nbsp;&nbsp;&nbsp;&nbsp;&nbsp;&nbsp;&nbsp;&nbsp;&nbsp;&nbsp;&nbsp;&nbsp;&nbsp;&nbsp;&nbsp;&nbsp;&nbsp;&nbsp;&nbsp;&nbsp;&nbsp;&nbsp;&nbsp;&nbsp;&nbsp;&nbsp;&nbsp;&nbsp;&nbsp;&nbsp;&nbsp;&nbsp;&nbsp;&nbsp;&nbsp;&nbsp;&nbsp;&nbsp;&nbsp;&nbsp;&nbsp;🐍Python Refresher for Sustainable Energy Management Module\n",
    "#### &nbsp;&nbsp;&nbsp;&nbsp;&nbsp;&nbsp;&nbsp;&nbsp;&nbsp;&nbsp;&nbsp;&nbsp;&nbsp;&nbsp;&nbsp;&nbsp;&nbsp;&nbsp;&nbsp;&nbsp;&nbsp;&nbsp;&nbsp;&nbsp;&nbsp;&nbsp;&nbsp;&nbsp;&nbsp;&nbsp;&nbsp;&nbsp;&nbsp;&nbsp;&nbsp;&nbsp;&nbsp;&nbsp;&nbsp;&nbsp;&nbsp;&nbsp;&nbsp;&nbsp;&nbsp;&nbsp;&nbsp;&nbsp;&nbsp;&nbsp;&nbsp;&nbsp;&nbsp;&nbsp;&nbsp;&nbsp;&nbsp;&nbsp;&nbsp;&nbsp;&nbsp;&nbsp;&nbsp;&nbsp;&nbsp;&nbsp;&nbsp;&nbsp;&nbsp;&nbsp;&nbsp;&nbsp;&nbsp;&nbsp;&nbsp;&nbsp;&nbsp;&nbsp;&nbsp;&nbsp;&nbsp;&nbsp;&nbsp;&nbsp;&nbsp;&nbsp;&nbsp;&nbsp;&nbsp;&nbsp;🎓Nottingham Trent University\n",
    "______________________________________________________________________________________________________"
   ]
  },
  {
   "cell_type": "markdown",
   "metadata": {},
   "source": [
    "### 7-Getting Started with Python\n",
    "### Python Basics - Data Structures\n",
    "______________________________________________________________________________________________________"
   ]
  },
  {
   "cell_type": "markdown",
   "metadata": {},
   "source": [
    "## Outline\n",
    "- Python Data Structures\n",
    "  - 1. Numeric Types\n",
    "  - 2. Text Type\n",
    "  - 3. Sequence Types\n",
    "  - 4. Set Types\n",
    "  - 5. Dictionary Type\n",
    "  - 6. Boolean Type\n",
    "  - 7. None Type\n",
    "______________________________________________________________________________________________________"
   ]
  },
  {
   "cell_type": "markdown",
   "metadata": {},
   "source": [
    "## Python Data Structures 🏗️\n",
    "Python, a dynamically typed language, offers a rich set of built-in data types to accommodate a wide range of data and computational needs. These data types can be categorised into distinct groups, each serving a specific purpose. Understanding these categories is fundamental to effective programming in Python. Python data structure can be categorized as below:"
   ]
  },
  {
   "cell_type": "markdown",
   "metadata": {},
   "source": [
    "1. Numeric Types\n",
    "2. Text Type\n",
    "3. Sequence Types\n",
    "4. Set Types\n",
    "5. Dictionary Type\n",
    "6. Boolean Type\n",
    "7. None Type\n",
    "\n",
    "In previous lectures, you have been familiar with some of these data types like integer, Boolean, Flot and String, but here we consider all of the Python data types to review"
   ]
  },
  {
   "cell_type": "markdown",
   "metadata": {},
   "source": [
    "______________________________________________________________________________________________________\n",
    "### Numeric Types 🔢\n",
    "Numeric types in Python encompass integers (int), floating-point numbers (float), and complex numbers (complex). Integers represent whole numbers, floats represent numbers with a fractional part, and complex numbers have both real and imaginary components. These types are fundamental for arithmetic operations and numerical computations.\n",
    "1. integer\n",
    "2. Float\n",
    "3. Complex"
   ]
  },
  {
   "cell_type": "markdown",
   "metadata": {},
   "source": [
    "#### 1. integer\n",
    "- Represents integers (whole numbers without a fractional part)."
   ]
  },
  {
   "cell_type": "code",
   "execution_count": null,
   "metadata": {},
   "outputs": [],
   "source": [
    "# Example of int\n",
    "my_integer = 10\n",
    "print(my_integer)  # Output: 10"
   ]
  },
  {
   "cell_type": "markdown",
   "metadata": {},
   "source": [
    "#### 2. Float\n",
    "- Represents floating-point numbers (numbers with a fractional part)."
   ]
  },
  {
   "cell_type": "code",
   "execution_count": null,
   "metadata": {},
   "outputs": [],
   "source": [
    "# Example of float\n",
    "my_float = 3.14\n",
    "print(my_float)  # Output: 3.14"
   ]
  },
  {
   "cell_type": "markdown",
   "metadata": {},
   "source": [
    "#### 3. Complex\n",
    "- Represents complex numbers with real and imaginary parts."
   ]
  },
  {
   "cell_type": "code",
   "execution_count": null,
   "metadata": {},
   "outputs": [],
   "source": [
    "# Example of complex\n",
    "my_complex = 2 + 3j\n",
    "print(my_complex)  # Output: (2+3j)\n"
   ]
  },
  {
   "cell_type": "markdown",
   "metadata": {},
   "source": [
    "______________________________________________________________________________________________________\n",
    "### Text Type\n",
    "- The text type in Python is represented by strings (str). Strings are sequences of characters and play a crucial role in handling textual data. Whether manipulating words, sentences, or entire documents, strings are the go-to data type for textual information."
   ]
  },
  {
   "cell_type": "code",
   "execution_count": null,
   "metadata": {},
   "outputs": [],
   "source": [
    "# Example of str\n",
    "my_string = \"Hello, Python!\"\n",
    "print(my_string)  # Output: Hello, Python!\n"
   ]
  },
  {
   "cell_type": "markdown",
   "metadata": {},
   "source": [
    "______________________________________________________________________________________________________\n",
    "### Sequence Types 🧍🧍‍♂️🧍‍♀️🧍‍♀️🧍‍♀️🧍‍♂️🧍‍♂️🧍‍♂️🧍🧍\n",
    "- Sequence types consist of ordered collections and include lists (list), tuples (tuple), and ranges (range). Lists are mutable, meaning their elements can be modified, while tuples are immutable. Ranges represent sequences of numbers and are particularly useful for iteration and creating numeric progressions.\n",
    "  \n",
    "1. List\n",
    "2. Tuple\n",
    "3. Range"
   ]
  },
  {
   "cell_type": "markdown",
   "metadata": {},
   "source": [
    "1. List\n",
    "- Represents ordered, mutable sequences."
   ]
  },
  {
   "cell_type": "code",
   "execution_count": null,
   "metadata": {},
   "outputs": [],
   "source": [
    "# Example of list\n",
    "my_list = [1, 2, 3, 'apple', 'banana']\n",
    "print(my_list)  # Output: [1, 2, 3, 'apple', 'banana']\n"
   ]
  },
  {
   "cell_type": "markdown",
   "metadata": {},
   "source": [
    "2. Tuple\n",
    "- Represents ordered, immutable sequences."
   ]
  },
  {
   "cell_type": "code",
   "execution_count": null,
   "metadata": {},
   "outputs": [],
   "source": [
    "# Example of tuple\n",
    "my_tuple = (1, 2, 'apple', 'banana')\n",
    "print(my_tuple)  # Output: (1, 2, 'apple', 'banana')\n"
   ]
  },
  {
   "cell_type": "markdown",
   "metadata": {},
   "source": [
    "3. Range\n",
    "- Represents a range of numbers."
   ]
  },
  {
   "cell_type": "code",
   "execution_count": null,
   "metadata": {},
   "outputs": [],
   "source": [
    "# Example of range\n",
    "my_range = range(1, 5)\n",
    "print(list(my_range))  # Output: [1, 2, 3, 4]\n"
   ]
  },
  {
   "cell_type": "markdown",
   "metadata": {},
   "source": [
    "______________________________________________________________________________________________________\n",
    "### Set Type \n",
    "- Sets (set) in Python are unordered collections of unique elements. They are beneficial for handling unique items and performing set operations such as union, intersection, and difference."
   ]
  },
  {
   "cell_type": "code",
   "execution_count": null,
   "metadata": {},
   "outputs": [],
   "source": [
    "# Example of set\n",
    "my_set = {1, 2, 3, 'apple', 'banana'}\n",
    "print(my_set)  # Output: {1, 2, 3, 'apple', 'banana'}"
   ]
  },
  {
   "cell_type": "markdown",
   "metadata": {},
   "source": [
    "______________________________________________________________________________________________________\n",
    "### Dictionary Type\n",
    "- Dictionaries (dict) are a key-value pairing data structure. Each key in a dictionary maps to a corresponding value, providing an efficient way to organize and retrieve information based on keys."
   ]
  },
  {
   "cell_type": "code",
   "execution_count": null,
   "metadata": {},
   "outputs": [],
   "source": [
    "# Example of dict\n",
    "my_dict = {'name': 'John', 'age': 25, 'city': 'New York'}\n",
    "print(my_dict)  # Output: {'name': 'John', 'age': 25, 'city': 'New York'}"
   ]
  },
  {
   "cell_type": "markdown",
   "metadata": {},
   "source": [
    "______________________________________________________________________________________________________\n",
    "### Boolean Type\n",
    "- Boolean types (bool) represent truth values and can be either True or False. Booleans are crucial for logical operations, decision-making, and control flow in programs."
   ]
  },
  {
   "cell_type": "code",
   "execution_count": null,
   "metadata": {},
   "outputs": [],
   "source": [
    "# Example of bool\n",
    "is_true = True\n",
    "is_false = False\n",
    "print(is_true)  # Output: True\n",
    "print(is_false)  # Output: False"
   ]
  },
  {
   "cell_type": "markdown",
   "metadata": {},
   "source": [
    "______________________________________________________________________________________________________\n",
    "### None Type\n",
    "- The None type (NoneType) represents the absence of a value or a null value. It is commonly used to signify that a variable or function returns no meaningful result."
   ]
  },
  {
   "cell_type": "code",
   "execution_count": null,
   "metadata": {},
   "outputs": [],
   "source": [
    "# Example of bool\n",
    "is_true = True\n",
    "is_false = False\n",
    "print(is_true)  # Output: True\n",
    "print(is_false)  # Output: False"
   ]
  }
 ],
 "metadata": {
  "kernelspec": {
   "display_name": "Python 3 (ipykernel)",
   "language": "python",
   "name": "python3"
  },
  "language_info": {
   "codemirror_mode": {
    "name": "ipython",
    "version": 3
   },
   "file_extension": ".py",
   "mimetype": "text/x-python",
   "name": "python",
   "nbconvert_exporter": "python",
   "pygments_lexer": "ipython3",
   "version": "3.12.1"
  }
 },
 "nbformat": 4,
 "nbformat_minor": 4
}
